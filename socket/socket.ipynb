{
 "cells": [
  {
   "cell_type": "code",
   "execution_count": 1,
   "metadata": {},
   "outputs": [],
   "source": [
    "import time\n",
    "from net_thread import *"
   ]
  },
  {
   "cell_type": "code",
   "execution_count": 2,
   "metadata": {},
   "outputs": [],
   "source": [
    "buffer = []\n",
    "def _print(*args, **kwargs):\n",
    "    buffer.append(' '.join([str(arg) for arg in args]))"
   ]
  },
  {
   "cell_type": "code",
   "execution_count": 3,
   "metadata": {},
   "outputs": [],
   "source": [
    "server = ServerThread(ptype='tcp')\n",
    "server.print = _print\n",
    "client = ClientThread(ptype='tcp')\n",
    "client.print = _print"
   ]
  },
  {
   "cell_type": "code",
   "execution_count": 4,
   "metadata": {},
   "outputs": [],
   "source": [
    "server.start()\n",
    "client.start()\n",
    "time.sleep(3)\n",
    "server.stop_wait()\n",
    "client.stop_wait()"
   ]
  },
  {
   "cell_type": "code",
   "execution_count": 5,
   "metadata": {},
   "outputs": [
    {
     "name": "stdout",
     "output_type": "stream",
     "text": [
      "[TCP client] [Connected] to ('127.0.0.1', 80)\n",
      "[TCP client] [Sending] to ('127.0.0.1', 80) : \n",
      " b'2020-11-25 12:35:03.993196'\n",
      "[TCP server] [Connected] from ('127.0.0.1', 53962) to ('0.0.0.0', 80)\n",
      "[TCP server] [Receiving] from ('127.0.0.1', 53962) to ('0.0.0.0', 80) : \n",
      " b'2020-11-25 12:35:03.993196'\n",
      "[TCP client] [Receiving] from ('127.0.0.1', 80) : \n",
      " b\"msg received: b'2020-11-25 12:35:03.993196'\"\n",
      "[TCP server] [Sending] from ('0.0.0.0', 80) to ('127.0.0.1', 53962) : \n",
      " b\"msg received: b'2020-11-25 12:35:03.993196'\"\n",
      "[TCP client] [Sending] to ('127.0.0.1', 80) : \n",
      " b'2020-11-25 12:35:05.004661'\n",
      "[TCP server] [Receiving] from ('127.0.0.1', 53962) to ('0.0.0.0', 80) : \n",
      " b'2020-11-25 12:35:05.004661'\n",
      "[TCP client] [Receiving] from ('127.0.0.1', 80) : \n",
      " b\"msg received: b'2020-11-25 12:35:05.004661'\"\n",
      "[TCP server] [Sending] from ('0.0.0.0', 80) to ('127.0.0.1', 53962) : \n",
      " b\"msg received: b'2020-11-25 12:35:05.004661'\"\n",
      "[TCP server] [Receiving] from ('127.0.0.1', 53962) to ('0.0.0.0', 80) : \n",
      " b'2020-11-25 12:35:06.009567'\n",
      "[TCP server] [Sending] from ('0.0.0.0', 80) to ('127.0.0.1', 53962) : \n",
      " b\"msg received: b'2020-11-25 12:35:06.009567'\"\n",
      "[TCP client] [Sending] to ('127.0.0.1', 80) : \n",
      " b'2020-11-25 12:35:06.009567'\n",
      "[TCP client] [Receiving] from ('127.0.0.1', 80) : \n",
      " b\"msg received: b'2020-11-25 12:35:06.009567'\"\n",
      "[TCP server] [Disconnected] from ('127.0.0.1', 53962) to ('0.0.0.0', 80)\n",
      "[TCP client] [Disconnected] to ('127.0.0.1', 80)\n"
     ]
    }
   ],
   "source": [
    "for line in buffer:\n",
    "    print(line)"
   ]
  }
 ],
 "metadata": {
  "kernelspec": {
   "display_name": "Python 3",
   "language": "python",
   "name": "python3"
  },
  "language_info": {
   "codemirror_mode": {
    "name": "ipython",
    "version": 3
   },
   "file_extension": ".py",
   "mimetype": "text/x-python",
   "name": "python",
   "nbconvert_exporter": "python",
   "pygments_lexer": "ipython3",
   "version": "3.6.12"
  }
 },
 "nbformat": 4,
 "nbformat_minor": 4
}
